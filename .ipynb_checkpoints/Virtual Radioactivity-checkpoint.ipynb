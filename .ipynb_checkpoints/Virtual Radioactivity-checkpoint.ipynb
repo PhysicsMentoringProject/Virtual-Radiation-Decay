{
 "cells": [
  {
   "cell_type": "markdown",
   "metadata": {},
   "source": [
    "# Virtual Radioactivity Experiment"
   ]
  },
  {
   "cell_type": "markdown",
   "metadata": {},
   "source": [
    "This notebook simulates a radioactive decay experiment. You must run the cells in order - but remember that some of them need you to put numbers in. Specific instructions and questions to consider are presented in <font color=\"red\">**red text**</font>."
   ]
  },
  {
   "cell_type": "markdown",
   "metadata": {},
   "source": [
    "This first section loads some \"modules\", which are bits of code that we'll need to use later on. We need to run this before we can start"
   ]
  },
  {
   "cell_type": "code",
   "execution_count": 1,
   "metadata": {},
   "outputs": [],
   "source": [
    "import numpy as np\n",
    "import matplotlib.pyplot as plt\n",
    "from scipy.optimize import curve_fit\n",
    "import random"
   ]
  },
  {
   "cell_type": "markdown",
   "metadata": {},
   "source": [
    "## Section 1 - Experimental setup"
   ]
  },
  {
   "cell_type": "markdown",
   "metadata": {},
   "source": [
    "This section sets up the experiment we're going to run. These are the parameters we'll work with.\n",
    "\n",
    "<p><b><font color=\"red\">You will need to enter some numbers for it to work. If you want to change the atoms your using, you'll have to change this.</font></b></p>"
   ]
  },
  {
   "cell_type": "code",
   "execution_count": 4,
   "metadata": {},
   "outputs": [],
   "source": [
    "# Enter a number of atoms to simulate in the experiment.\n",
    "totalNumberOfAtoms = ENTER_NUMBER\n",
    "\n",
    "# The chance of an individual atom decaying per second.\n",
    "# Remember that this is a probability so it must be less than 1\n",
    "decayProbability = ENTER_PROBABILITY_LEVEL"
   ]
  },
  {
   "cell_type": "markdown",
   "metadata": {},
   "source": [
    "## Section 2 - Data Recording Set up"
   ]
  },
  {
   "cell_type": "markdown",
   "metadata": {},
   "source": [
    "In this section we'll set up the length of time we're going to run for.\n",
    "\n",
    "<p><font color=\"red\">**If you want to re-run the experiment (with the same atoms), you'll have to re-run this cell.**</font></p>"
   ]
  },
  {
   "cell_type": "code",
   "execution_count": 8,
   "metadata": {},
   "outputs": [],
   "source": [
    "# These blank arrays are going to be used later on.\n",
    "# An array is just a list of numbers, and they are an important part of coding - especially in science!\n",
    "\n",
    "# Enter a length for the number of seconds to run the experiment for.\n",
    "# This should be an integer (i.e. a whole number)\n",
    "experimentDuration = ENTER_DURATION\n",
    "\n",
    "numberOfSteps=int(experimentDuration)\n",
    "timeStepArray = np.zeros(numberOfSteps)\n",
    "numberOfUndecayedAtomsArray = np.zeros(numberOfSteps)\n",
    "numberOfDecayedAtomsArray = np.zeros(numberOfSteps)\n",
    "\n",
    "# this next line sets up a \"array\" of the atoms - in this case one number per atom.\n",
    "# The numbers all start of as 1 - which is how we record that the atoms are undecayed.\n",
    "# Later, the numbers will change to 0 - which is how we record that they are decayed.\n",
    "atoms = np.ones(totalNumberOfAtoms)\n",
    "\n",
    "# Our experiment is now set up!\n"
   ]
  },
  {
   "cell_type": "markdown",
   "metadata": {},
   "source": [
    "## Section 3 - Running the experiment"
   ]
  },
  {
   "cell_type": "markdown",
   "metadata": {},
   "source": [
    "In this section we'll run the experiment.\n",
    "\n",
    "<p>This is a for loop, and repeats the same thing again and again for as long as we need. It will step forward once per second from zero until \"experimentDuration\", and do the same thing every time.</p>\n",
    "\n",
    "\n",
    "<p><font color=\"red\">**You will neet to put a value in the last section to decide whether an atom has decayed. This is one of the parameters defined at the top.**</font></p>"
   ]
  },
  {
   "cell_type": "code",
   "execution_count": 9,
   "metadata": {},
   "outputs": [],
   "source": [
    "# First, step through the time steps\n",
    "for t in range(numberOfSteps): \n",
    "    # record the time at this step\n",
    "    timeStepArray[t] = t\n",
    "\n",
    "    # count the number of undecayed atoms, by adding up all the numbers in the \"atoms\" array\n",
    "    # (Remember that 1 = undecayed, 0 = decayed)\n",
    "    numberOfUndecayedAtomsNow = np.sum(atoms)\n",
    "    numberOfDecayedAtomsNow = totalNumberOfAtoms - numberOfUndecayedAtomsNow\n",
    "    numberOfUndecayedAtomsArray[t] = numberOfUndecayedAtomsNow\n",
    "    numberOfDecayedAtomsArray[t] = numberOfDecayedAtomsNow\n",
    "\n",
    "    # At each time step, cycle through all the atoms and decide whether they're decayed\n",
    "    for atom in range(totalNumberOfAtoms):\n",
    "        # generate a random number between 0 and 1\n",
    "        randomNumber = random.uniform(0, 1)\n",
    "        \n",
    "        # Decide whether the atom has decayed, and replace the 1 with 0 if it has.\n",
    "        # What value that you defined above should you use here?\n",
    "        if(randomNumber <= ENTER_PARAMETER_HERE):\n",
    "            atoms[atom] = 0"
   ]
  },
  {
   "cell_type": "markdown",
   "metadata": {},
   "source": [
    "## Section 4 - Presenting the Raw Data"
   ]
  },
  {
   "cell_type": "markdown",
   "metadata": {},
   "source": [
    "The \"plt.\" prefix here is used to create graphs and plots, and is using the pyplot package we imported at the top.\n",
    "\n",
    "This will create a plot showing the number of undecayed atoms at each timestep, and should follow a curve."
   ]
  },
  {
   "cell_type": "code",
   "execution_count": 10,
   "metadata": {},
   "outputs": [
    {
     "data": {
      "image/png": "[encoded data removed]",
      "text/plain": [
       "<matplotlib.figure.Figure at 0x10b5818d0>"
      ]
     },
     "metadata": {},
     "output_type": "display_data"
    }
   ],
   "source": [
    "#This section randomly chooses a number between 0 and 1 for each atom at each timestep, and if that number is below the\n",
    "#level you set earlier, the atom will decay. This should create our \"half-life\" decay, and we can check this by plotting\n",
    "#the results on a graph\n",
    "            \n",
    "#~~~~~~~~~~~~~~~~~~~~~~~~~~~~~~~~~~~~~~~~~~~~~~~~~~~~~~~~~~\n",
    "# Section 4 - Presenting The Raw Data\n",
    "\n",
    "plt.figure(1)\n",
    "plt.title('Graph To Show Decay Of ' + str(totalNumberOfAtoms) + ' Atoms')\n",
    "plt.xlabel('Time Steps')\n",
    "plt.ylabel('Number Of Atoms')\n",
    "\n",
    "plt.plot(timeStepArray, numberOfUndecayedAtomsArray, 'o',label='Number of undecayed atoms')\n",
    "plt.plot(timeStepArray, numberOfDecayedAtomsArray, 'o',label='Number of decayed atoms')\n",
    "plt.legend()\n",
    "plt.show()"
   ]
  },
  {
   "cell_type": "markdown",
   "metadata": {},
   "source": [
    "## Section 5 - Creating the models"
   ]
  },
  {
   "cell_type": "markdown",
   "metadata": {},
   "source": [
    "We can create models to compare with the data. Below are several theoretical models, all of which are characterised by the \"half life\" - the time it takes for half the atoms to decay. The models are:\n",
    " * **LinearDecay** - a constant decay rate\n",
    " * **InverseDecay** - the number of undecayed atoms is inversely proportional to time\n",
    " * **InverseSquareDecay** - the number of undecayed atoms is inversely proportional to the square of time\n",
    " * **QuadraticDecay** - the number of undecayed atoms is proportional to time squared\n",
    " * **ExponentialDecay** - the number of undecayed atoms decreases expontially"
   ]
  },
  {
   "cell_type": "code",
   "execution_count": 11,
   "metadata": {},
   "outputs": [],
   "source": [
    "#Make a model where the same number decay every second\n",
    "def LinearDecay(timeArray,HalfLife):\n",
    "#     decayRate=0.5*initialAtoms/HalfLife\n",
    "    expectedUndecayedAtoms = totalNumberOfAtoms*(1 - 0.5*timeArray/HalfLife)\n",
    "    # make sure it doesn't go below zero\n",
    "    expectedUndecayedAtoms = np.where(expectedUndecayedAtoms<0,0,expectedUndecayedAtoms)\n",
    "    return expectedUndecayedAtoms\n",
    "\n",
    "#Make a model where the number decreases as 1/time, with a HalfLife\n",
    "def InverseDecay(timeArray,HalfLife):\n",
    "    expectedUndecayedAtoms = totalNumberOfAtoms * 1 / ( 1 + timeArray/HalfLife)\n",
    "    return expectedUndecayedAtoms\n",
    "\n",
    "#Make a model where the number decreases as 1/time, with a HalfLife\n",
    "def InverseSquareDecay(timeArray,HalfLife):\n",
    "    decayConstant=(np.sqrt(2)-1)/HalfLife\n",
    "    expectedUndecayedAtoms = totalNumberOfAtoms * 1 / ( 1 + timeArray*decayConstant)**2\n",
    "    return expectedUndecayedAtoms\n",
    "\n",
    "#Make a model where the number decreases as the square of the time\n",
    "def QuadraticDecay(timeArray,HalfLife):\n",
    "    decayConstant=np.sqrt(0.5*totalNumberOfAtoms)/HalfLife\n",
    "    expectedUndecayedAtoms = totalNumberOfAtoms - (timeArray*decayConstant)**2\n",
    "    # make sure it doesn't go below zero\n",
    "    expectedUndecayedAtoms = np.where(expectedUndecayedAtoms<0,0,expectedUndecayedAtoms)\n",
    "    return expectedUndecayedAtoms\n",
    "\n",
    "# Make a model where the decay is exponential\n",
    "def ExponentialDecay(timeArray,HalfLife):\n",
    "    expectedUndecayedAtoms = totalNumberOfAtoms * np.exp(-np.log(2) * timeArray/HalfLife)\n",
    "    return expectedUndecayedAtoms"
   ]
  },
  {
   "cell_type": "markdown",
   "metadata": {},
   "source": [
    "## Section 6 - Comparing the model to the data"
   ]
  },
  {
   "cell_type": "markdown",
   "metadata": {},
   "source": [
    "<font color=\"red\">**Select the model from the options above and set the half life.**</font>"
   ]
  },
  {
   "cell_type": "markdown",
   "metadata": {},
   "source": [
    "A graph is plotted, comparing the data and the theoretical model you select."
   ]
  },
  {
   "cell_type": "code",
   "execution_count": 12,
   "metadata": {},
   "outputs": [
    {
     "data": {
      "image/png": "[encoded data removed]",
      "text/plain": [
       "<matplotlib.figure.Figure at 0x10b66d518>"
      ]
     },
     "metadata": {},
     "output_type": "display_data"
    }
   ],
   "source": [
    "# Choose the name of the model from the options above.\n",
    "# The model name must match exactly, including the capitals\n",
    "\n",
    "theoreticalModel = INSERT_MODEL_NAME\n",
    "\n",
    "# Set your half life in seconds\n",
    "HalfLife=100\n",
    "\n",
    "plt.figure(1)\n",
    "plt.title('Graph To Show Decay Of ' + str(totalNumberOfAtoms) + ' Atoms')\n",
    "plt.xlabel('Time Steps')\n",
    "plt.ylabel('Number Of Atoms')\n",
    "\n",
    "\n",
    "plt.plot(timeStepArray, numberOfUndecayedAtomsArray,label='Data')\n",
    "\n",
    "plt.plot(timeStepArray,theoreticalModel(timeStepArray,HalfLife),label='Theoretical Model')\n",
    "\n",
    "\n",
    "plt.legend()\n",
    "plt.show()"
   ]
  },
  {
   "cell_type": "markdown",
   "metadata": {},
   "source": [
    "<font color=\"red\">**Change the parameters of your model, and the type of model. Rerun the cell above to see whether you can get a better fit to the data.**</font>"
   ]
  },
  {
   "cell_type": "markdown",
   "metadata": {},
   "source": [
    "<font color=\"red\">**What happens if you change the parameters right at the top in sections 1 and 2 and rerun the experiment. Does your model still work?**</font>"
   ]
  },
  {
   "cell_type": "markdown",
   "metadata": {},
   "source": [
    "## Section 7 - Making a better fit"
   ]
  },
  {
   "cell_type": "markdown",
   "metadata": {},
   "source": [
    "In this section, we will see if we can get a best-fit value for our chose model, and see how it compares. The ```curve_fit``` function lets us find tbe best fit value for our data, but only if we give it a sensible model."
   ]
  },
  {
   "cell_type": "code",
   "execution_count": 13,
   "metadata": {},
   "outputs": [
    {
     "data": {
      "image/png": "[encoded data removed]",
      "text/plain": [
       "<matplotlib.figure.Figure at 0x10b66d4a8>"
      ]
     },
     "metadata": {},
     "output_type": "display_data"
    },
    {
     "name": "stdout",
     "output_type": "stream",
     "text": [
      "--------\n",
      "Best fit Half Life for LinearDecay model:\n",
      "  105.28478603384286 s\n",
      "--------\n"
     ]
    }
   ],
   "source": [
    "plt.title('Graph To Show Decay Analysis Of ' + str(totalNumberOfAtoms) + ' Atoms')\n",
    "plt.xlabel('Time Steps')\n",
    "plt.ylabel('Number Of Undecayed Atoms')\n",
    "\n",
    "# Chose a theoretical model as above\n",
    "theoreticalModel=LinearDecay\n",
    "\n",
    "# get the best-fit values\n",
    "[bestfitHalfLife], pcov = curve_fit(theoreticalModel,timeStepArray, numberOfUndecayedAtomsArray,(100))\n",
    "                    \n",
    "plt.plot(timeStepArray, numberOfUndecayedAtomsArray, 'o', label = 'Raw Data')\n",
    "plt.plot(timeStepArray, theoreticalModel(timeStepArray, bestfitHalfLife), label = 'Theoretical Model')\n",
    "\n",
    "plt.legend(loc = 'best')\n",
    "plt.show()\n",
    "print('--------')\n",
    "print('Best fit Half Life for {} model:\\n  {} s'.format(theoreticalModel.__name__,bestfitHalfLife))\n",
    "print('--------')"
   ]
  },
  {
   "cell_type": "markdown",
   "metadata": {},
   "source": [
    "<font color=\"red\">**How does that fit compare with the estimate you made above? Do you think the model you chose was good?**</font>"
   ]
  },
  {
   "cell_type": "code",
   "execution_count": null,
   "metadata": {},
   "outputs": [],
   "source": []
  }
 ],
 "metadata": {
  "kernelspec": {
   "display_name": "Python 3",
   "language": "python",
   "name": "python3"
  },
  "language_info": {
   "codemirror_mode": {
    "name": "ipython",
    "version": 3
   },
   "file_extension": ".py",
   "mimetype": "text/x-python",
   "name": "python",
   "nbconvert_exporter": "python",
   "pygments_lexer": "ipython3",
   "version": "3.6.4"
  }
 },
 "nbformat": 4,
 "nbformat_minor": 2
}
